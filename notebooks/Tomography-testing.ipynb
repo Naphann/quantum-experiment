{
 "cells": [
  {
   "cell_type": "code",
   "execution_count": 1,
   "metadata": {},
   "outputs": [],
   "source": [
    "# needed for functions\n",
    "import numpy as np\n",
    "import time\n",
    "from copy import deepcopy\n",
    "\n",
    "# qiskit imports\n",
    "import qiskit\n",
    "from qiskit import QuantumRegister, QuantumCircuit, ClassicalRegister, Aer\n",
    "from qiskit.quantum_info import state_fidelity\n",
    "from qiskit.providers.aer import noise\n",
    "\n",
    "# tomography functions\n",
    "from qiskit.ignis.verification.tomography import state_tomography_circuits, StateTomographyFitter\n",
    "import qiskit.ignis.mitigation.measurement as mc"
   ]
  },
  {
   "cell_type": "code",
   "execution_count": 2,
   "metadata": {},
   "outputs": [
    {
     "data": {
      "text/plain": [
       "[<IBMQSimulator('ibmq_qasm_simulator') from IBMQ(hub='ibm-q', group='open', project='main')>,\n",
       " <IBMQBackend('ibmqx4') from IBMQ(hub='ibm-q', group='open', project='main')>,\n",
       " <IBMQBackend('ibmqx2') from IBMQ(hub='ibm-q', group='open', project='main')>,\n",
       " <IBMQBackend('ibmq_16_melbourne') from IBMQ(hub='ibm-q', group='open', project='main')>]"
      ]
     },
     "execution_count": 2,
     "metadata": {},
     "output_type": "execute_result"
    }
   ],
   "source": [
    "# Load IBMQ account\n",
    "provider = qiskit.IBMQ.load_account()\n",
    "provider.backends()"
   ]
  },
  {
   "cell_type": "code",
   "execution_count": 3,
   "metadata": {},
   "outputs": [
    {
     "name": "stdout",
     "output_type": "stream",
     "text": [
      "        ┌───┐     \n",
      "a_0: |0>┤ H ├──■──\n",
      "        └───┘┌─┴─┐\n",
      "b_0: |0>─────┤ X ├\n",
      "             └───┘\n",
      "[0.70710678+0.j 0.        +0.j 0.        +0.j 0.70710678+0.j]\n"
     ]
    }
   ],
   "source": [
    "# expected density matrix\n",
    "a = QuantumRegister(1, 'a')\n",
    "b = QuantumRegister(1, 'b')\n",
    "bell = QuantumCircuit(a, b)\n",
    "\n",
    "bell.h(a[0])\n",
    "bell.cx(a[0], b[0])\n",
    "print(bell)\n",
    "\n",
    "job = qiskit.execute(bell, Aer.get_backend('statevector_simulator'))\n",
    "psi_bell = job.result().get_statevector(bell)\n",
    "print(psi_bell)"
   ]
  },
  {
   "cell_type": "code",
   "execution_count": 4,
   "metadata": {},
   "outputs": [
    {
     "name": "stdout",
     "output_type": "stream",
     "text": [
      "                  \n",
      "a_0: |0>──────────\n",
      "                  \n",
      "a_1: |0>──────────\n",
      "        ┌───┐     \n",
      "a_2: |0>┤ H ├──■──\n",
      "        └───┘  │  \n",
      "b_0: |0>───────┼──\n",
      "               │  \n",
      "b_1: |0>───────┼──\n",
      "             ┌─┴─┐\n",
      "b_2: |0>─────┤ X ├\n",
      "             └───┘\n"
     ]
    }
   ],
   "source": [
    "# create the actual circuit\n",
    "aqs = QuantumRegister(3, 'a')\n",
    "bqs = QuantumRegister(3, 'b')\n",
    "bell = QuantumCircuit(aqs, bqs)\n",
    "bell.h(aqs[2])\n",
    "bell.cx(aqs[2], bqs[2])\n",
    "print(bell)"
   ]
  },
  {
   "cell_type": "code",
   "execution_count": 6,
   "metadata": {},
   "outputs": [
    {
     "name": "stdout",
     "output_type": "stream",
     "text": [
      "Exec   - Time taken: 0.20228981971740723\n",
      "Fitter - Time taken: 9.213082075119019\n"
     ]
    }
   ],
   "source": [
    "# generate circuit and run on simulator\n",
    "t = time.time()\n",
    "# generate the state tomography circuits. only pass in the \n",
    "# registers we want to measure (in this case aqs[2] and bqs[2])\n",
    "qst_bell = state_tomography_circuits(bell, [aqs[2], bqs[2]])\n",
    "job = qiskit.execute(qst_bell, provider.get_backend('ibmq_qasm_simulator'), shots=5000)\n",
    "print('Exec   - Time taken:', time.time() - t)\n",
    "\n",
    "t = time.time()\n",
    "tomo_bell = StateTomographyFitter(job.result(), qst_bell)\n",
    "print('Fitter - Time taken:', time.time() - t)"
   ]
  },
  {
   "cell_type": "code",
   "execution_count": 8,
   "metadata": {},
   "outputs": [
    {
     "name": "stdout",
     "output_type": "stream",
     "text": [
      "Fit Fidelity =  0.9959430949857523\n"
     ]
    }
   ],
   "source": [
    "# perform the tomography fit\n",
    "# which outputs a density matrix\n",
    "rho_bell = tomo_bell.fit()\n",
    "F_bell = state_fidelity(psi_bell, rho_bell)\n",
    "print('Fit Fidelity = ', F_bell)"
   ]
  },
  {
   "cell_type": "markdown",
   "metadata": {},
   "source": [
    "### Fitting larger circuits\n",
    "\n",
    "Trying to fit the entire circuit and not just the 2 qubits in question and see the time usage"
   ]
  },
  {
   "cell_type": "code",
   "execution_count": 9,
   "metadata": {},
   "outputs": [
    {
     "name": "stdout",
     "output_type": "stream",
     "text": [
      "                  \n",
      "a_0: |0>──────────\n",
      "                  \n",
      "a_1: |0>──────────\n",
      "        ┌───┐     \n",
      "a_2: |0>┤ H ├──■──\n",
      "        └───┘  │  \n",
      "b_0: |0>───────┼──\n",
      "               │  \n",
      "b_1: |0>───────┼──\n",
      "             ┌─┴─┐\n",
      "b_2: |0>─────┤ X ├\n",
      "             └───┘\n",
      "[0.70710678+0.j 0.        +0.j 0.        +0.j 0.        +0.j\n",
      " 0.        +0.j 0.        +0.j 0.        +0.j 0.        +0.j\n",
      " 0.        +0.j 0.        +0.j 0.        +0.j 0.        +0.j\n",
      " 0.        +0.j 0.        +0.j 0.        +0.j 0.        +0.j\n",
      " 0.        +0.j 0.        +0.j 0.        +0.j 0.        +0.j\n",
      " 0.        +0.j 0.        +0.j 0.        +0.j 0.        +0.j\n",
      " 0.        +0.j 0.        +0.j 0.        +0.j 0.        +0.j\n",
      " 0.        +0.j 0.        +0.j 0.        +0.j 0.        +0.j\n",
      " 0.        +0.j 0.        +0.j 0.        +0.j 0.        +0.j\n",
      " 0.70710678+0.j 0.        +0.j 0.        +0.j 0.        +0.j\n",
      " 0.        +0.j 0.        +0.j 0.        +0.j 0.        +0.j\n",
      " 0.        +0.j 0.        +0.j 0.        +0.j 0.        +0.j\n",
      " 0.        +0.j 0.        +0.j 0.        +0.j 0.        +0.j\n",
      " 0.        +0.j 0.        +0.j 0.        +0.j 0.        +0.j\n",
      " 0.        +0.j 0.        +0.j 0.        +0.j 0.        +0.j\n",
      " 0.        +0.j 0.        +0.j 0.        +0.j 0.        +0.j]\n"
     ]
    }
   ],
   "source": [
    "# expected density matrix\n",
    "a = QuantumRegister(3, 'a')\n",
    "b = QuantumRegister(3, 'b')\n",
    "bell = QuantumCircuit(a, b)\n",
    "\n",
    "bell.h(a[2])\n",
    "bell.cx(a[2], b[2])\n",
    "print(bell)\n",
    "\n",
    "job = qiskit.execute(bell, Aer.get_backend('statevector_simulator'))\n",
    "psi_bell = job.result().get_statevector(bell)\n",
    "print(psi_bell)"
   ]
  },
  {
   "cell_type": "code",
   "execution_count": 15,
   "metadata": {},
   "outputs": [
    {
     "name": "stdout",
     "output_type": "stream",
     "text": [
      "Exec   - Time taken: 30.229041814804077\n",
      "Fitter - Time taken: 0.5484452247619629\n"
     ]
    }
   ],
   "source": [
    "# generate circuit and run on simulator\n",
    "t = time.time()\n",
    "# generate the state tomography circuits. only pass in the \n",
    "# registers we want to measure (in this case aqs[2] and bqs[2])\n",
    "qst_bell = state_tomography_circuits(bell, [aqs[0], aqs[1], aqs[2], bqs[0], bqs[1], bqs[2]])\n",
    "# job = qiskit.execute(qst_bell, provider.get_backend('ibmq_qasm_simulator'), shots=5000)\n",
    "job = qiskit.execute(qst_bell, Aer.get_backend('qasm_simulator'), shots=5000)\n",
    "result = job.result()\n",
    "print('Execution     - Time taken:', time.time() - t)\n",
    "\n",
    "\n",
    "\n",
    "t = time.time()\n",
    "tomo_bell = StateTomographyFitter(result, qst_bell)\n",
    "print('Create Fitter - Time taken:', time.time() - t)"
   ]
  },
  {
   "cell_type": "code",
   "execution_count": 16,
   "metadata": {},
   "outputs": [
    {
     "name": "stdout",
     "output_type": "stream",
     "text": [
      "Fit Fidelity =  0.9936878804974898\n"
     ]
    }
   ],
   "source": [
    "# perform the tomography fit\n",
    "# which outputs a density matrix\n",
    "t = time.time()\n",
    "rho_bell = tomo_bell.fit()\n",
    "F_bell = state_fidelity(psi_bell, rho_bell)\n",
    "print('Fit - Time taken:', time.time() - t)\n",
    "print('Fit Fidelity = ', F_bell)"
   ]
  },
  {
   "cell_type": "code",
   "execution_count": null,
   "metadata": {},
   "outputs": [],
   "source": []
  }
 ],
 "metadata": {
  "kernelspec": {
   "display_name": "Python 3",
   "language": "python",
   "name": "python3"
  },
  "language_info": {
   "codemirror_mode": {
    "name": "ipython",
    "version": 3
   },
   "file_extension": ".py",
   "mimetype": "text/x-python",
   "name": "python",
   "nbconvert_exporter": "python",
   "pygments_lexer": "ipython3",
   "version": "3.7.4"
  }
 },
 "nbformat": 4,
 "nbformat_minor": 2
}
